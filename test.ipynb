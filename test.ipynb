{
 "cells": [
  {
   "cell_type": "code",
   "execution_count": 4,
   "id": "e3e923c6",
   "metadata": {},
   "outputs": [
    {
     "name": "stdout",
     "output_type": "stream",
     "text": [
      " * Serving Flask app '__main__'\n",
      " * Debug mode: on\n"
     ]
    },
    {
     "name": "stderr",
     "output_type": "stream",
     "text": [
      "WARNING: This is a development server. Do not use it in a production deployment. Use a production WSGI server instead.\n",
      " * Running on http://127.0.0.1:5000\n",
      "Press CTRL+C to quit\n",
      " * Restarting with stat\n"
     ]
    },
    {
     "ename": "SystemExit",
     "evalue": "1",
     "output_type": "error",
     "traceback": [
      "An exception has occurred, use %tb to see the full traceback.\n",
      "\u001b[31mSystemExit\u001b[39m\u001b[31m:\u001b[39m 1\n"
     ]
    },
    {
     "name": "stderr",
     "output_type": "stream",
     "text": [
      "c:\\Users\\Asus\\OneDrive\\Desktop\\Practice Project\\PBL PROJECT\\venv\\Lib\\site-packages\\IPython\\core\\interactiveshell.py:3675: UserWarning: To exit: use 'exit', 'quit', or Ctrl-D.\n",
      "  warn(\"To exit: use 'exit', 'quit', or Ctrl-D.\", stacklevel=1)\n"
     ]
    }
   ],
   "source": [
    "from flask import Flask, render_template_string, request\n",
    "import requests\n",
    "\n",
    "app = Flask(__name__)\n",
    "\n",
    "@app.route('/', methods=['GET', 'POST'])\n",
    "def index():\n",
    "    result = \"\"\n",
    "    \n",
    "    if request.method == 'POST':\n",
    "        city = request.form.get('city')\n",
    "        api_key = \"YOUR_OPENWEATHERMAP_API_KEY\"  # Replace with your actual API key\n",
    "        \n",
    "        try:\n",
    "            url = f\"https://api.openweathermap.org/data/2.5/weather?q={city}&appid={api_key}&units=metric\"\n",
    "            response = requests.get(url)\n",
    "            \n",
    "            if response.status_code == 200:\n",
    "                data = response.json()\n",
    "                result = f\"Weather in {data['name']}: {data['weather'][0]['description']}, {data['main']['temp']}°C\"\n",
    "            else:\n",
    "                result = f\"Error: {response.status_code} - {response.text}\"\n",
    "        except Exception as e:\n",
    "            result = f\"Exception: {str(e)}\"\n",
    "    \n",
    "    html = '''\n",
    "    <!DOCTYPE html>\n",
    "    <html>\n",
    "    <head>\n",
    "        <title>Simple Weather Test</title>\n",
    "    </head>\n",
    "    <body>\n",
    "        <h1>Simple Weather Test</h1>\n",
    "        <form method=\"post\">\n",
    "            <input type=\"text\" name=\"city\" placeholder=\"Enter city name\">\n",
    "            <button type=\"submit\">Get Weather</button>\n",
    "        </form>\n",
    "        {% if result %}\n",
    "        <div style=\"margin-top: 20px; padding: 10px; background-color: #f0f0f0;\">\n",
    "            {{ result }}\n",
    "        </div>\n",
    "        {% endif %}\n",
    "    </body>\n",
    "    </html>\n",
    "    '''\n",
    "    \n",
    "    return render_template_string(html, result=result)\n",
    "\n",
    "if __name__ == '__main__':\n",
    "    app.run(debug=True)"
   ]
  }
 ],
 "metadata": {
  "kernelspec": {
   "display_name": "venv",
   "language": "python",
   "name": "python3"
  },
  "language_info": {
   "codemirror_mode": {
    "name": "ipython",
    "version": 3
   },
   "file_extension": ".py",
   "mimetype": "text/x-python",
   "name": "python",
   "nbconvert_exporter": "python",
   "pygments_lexer": "ipython3",
   "version": "3.13.1"
  }
 },
 "nbformat": 4,
 "nbformat_minor": 5
}
